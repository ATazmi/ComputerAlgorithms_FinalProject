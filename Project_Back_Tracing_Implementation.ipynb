{
 "cells": [
  {
   "cell_type": "code",
   "execution_count": 23,
   "metadata": {},
   "outputs": [],
   "source": [
    "### Size of chess board\n",
    "global N\n",
    "N=8\n",
    "import numpy as np"
   ]
  },
  {
   "cell_type": "code",
   "execution_count": 31,
   "metadata": {},
   "outputs": [],
   "source": [
    "def IsSafe(x,y,sol):\n",
    "    return (x>=0 and x<N and y>=0 and y<N and sol[x][y]==-1)\n",
    "    "
   ]
  },
  {
   "cell_type": "code",
   "execution_count": 45,
   "metadata": {
    "collapsed": true
   },
   "outputs": [],
   "source": [
    "def solveKT():\n",
    "    ### Initialize matrix\n",
    "    sol=np.zeros((N,N), dtype=np.int)\n",
    "    for x in range(0,N):\n",
    "        for y in range(0,N):\n",
    "            sol[x][y] = -1;\n",
    "    xMove = [2,1,-1,-2,-2,-1, 1, 2]\n",
    "    yMove = [1,2,2,1,-1,-2,-2, -1]\n",
    "    sol[0][0]=0\n",
    "    if (solveKTUtil(0, 0, 1, sol, xMove, yMove) == False):\n",
    "    \n",
    "        print(\"Solution does not exist\")\n",
    "        return False\n",
    "    \n",
    "    else:\n",
    "        print(sol)\n",
    " \n",
    "    return True"
   ]
  },
  {
   "cell_type": "code",
   "execution_count": 46,
   "metadata": {},
   "outputs": [],
   "source": [
    "def solveKTUtil(x,y,movei,sol,xMove,yMove):\n",
    "    if (movei == N*N):\n",
    "        return True\n",
    " \n",
    "    ##Try all next moves from the current coordinate x, y */\n",
    "    for k in range(0,N):\n",
    "        next_x = x + xMove[k]\n",
    "        next_y = y + yMove[k]\n",
    "        if (IsSafe(next_x, next_y, sol)):\n",
    "            sol[next_x][next_y] = movei\n",
    "            if (solveKTUtil(next_x, next_y, movei+1, sol,\n",
    "                         xMove, yMove) == True):\n",
    "                 return True\n",
    "            else:\n",
    "                sol[next_x][next_y] = -1\n",
    "    \n",
    "   \n",
    " \n",
    "    return False\n"
   ]
  },
  {
   "cell_type": "code",
   "execution_count": 47,
   "metadata": {},
   "outputs": [
    {
     "name": "stdout",
     "output_type": "stream",
     "text": [
      "[[ 0 59 38 33 30 17  8 63]\n",
      " [37 34 31 60  9 62 29 16]\n",
      " [58  1 36 39 32 27 18  7]\n",
      " [35 48 41 26 61 10 15 28]\n",
      " [42 57  2 49 40 23  6 19]\n",
      " [47 50 45 54 25 20 11 14]\n",
      " [56 43 52  3 22 13 24  5]\n",
      " [51 46 55 44 53  4 21 12]]\n"
     ]
    }
   ],
   "source": [
    "if __name__ == '__main__':\n",
    "    solveKT()"
   ]
  }
 ],
 "metadata": {
  "kernelspec": {
   "display_name": "Python 3",
   "language": "python",
   "name": "python3"
  },
  "language_info": {
   "codemirror_mode": {
    "name": "ipython",
    "version": 3
   },
   "file_extension": ".py",
   "mimetype": "text/x-python",
   "name": "python",
   "nbconvert_exporter": "python",
   "pygments_lexer": "ipython3",
   "version": "3.6.3"
  }
 },
 "nbformat": 4,
 "nbformat_minor": 2
}
