{
 "cells": [
  {
   "cell_type": "code",
   "execution_count": 1,
   "metadata": {
    "collapsed": true
   },
   "outputs": [],
   "source": [
    "### Size of chess board\n",
    "global N\n",
    "N=8\n",
    "import numpy as np\n",
    "import pygame, sys\n",
    "from pygame.locals import *"
   ]
  },
  {
   "cell_type": "code",
   "execution_count": 2,
   "metadata": {
    "collapsed": true
   },
   "outputs": [],
   "source": [
    "def IsSafe(x,y,sol):\n",
    "    return (x>=0 and x<N and y>=0 and y<N and sol[x][y]==-1)\n",
    "    "
   ]
  },
  {
   "cell_type": "code",
   "execution_count": 3,
   "metadata": {
    "collapsed": true
   },
   "outputs": [],
   "source": [
    "def graphicTour(N,L_coor):\n",
    "        horse = pygame.image.load(\"knight.png\")\n",
    "\n",
    "        # Initialize window size and title:\n",
    "        pygame.init()\n",
    "        window = pygame.display.set_mode((32*N,32*N))\n",
    "        pygame.display.set_caption(\"Knight's Tour\")\n",
    "        background = pygame.image.load(\"chess.png\")\n",
    "        index = 0\n",
    "\n",
    "        # Text:\n",
    "        font = pygame.font.SysFont(\"Ubuntu\",16)\n",
    "        text = []\n",
    "        surface = []\n",
    "\n",
    "        while True:\n",
    "            # Fill background:\n",
    "            window.blit(background,(0,0))\n",
    "            if index < N*N:\n",
    "                #print(index)\n",
    "                window.blit(horse,(L_coor[index][0]*32,L_coor[index][1]*32))\n",
    "                text.append(font.render(str(index+1),True,(255,255,255)))\n",
    "                surface.append(text[index].get_rect())\n",
    "                surface[index].center = (L_coor[index][0]*32+16,L_coor[index][1]*32+16)\n",
    "                index += 1\n",
    "            else:\n",
    "                window.blit(horse,(L_coor[index-1][0]*32,L_coor[index-1][1]*32))\n",
    "            for x in range(10000000):\n",
    "                pass\n",
    "            # Check events on window:\n",
    "            for event in pygame.event.get():\n",
    "                if event.type == QUIT:\n",
    "                    pygame.quit()\n",
    "                    sys.exit()\n",
    "                elif event.type == pygame.KEYDOWN:\n",
    "                    if event.key == 27:\n",
    "                        pygame.quit()\n",
    "                        sys.exit()\n",
    "\n",
    "            for i in range(index):\n",
    "                window.blit(text[i],surface[i])\n",
    "\n",
    "            # Update window:\n",
    "            pygame.display.update()"
   ]
  },
  {
   "cell_type": "code",
   "execution_count": 10,
   "metadata": {
    "collapsed": true
   },
   "outputs": [],
   "source": [
    "def solveKT():\n",
    "    ### Initialize matrix\n",
    "    sol=np.zeros((N,N), dtype=np.int)\n",
    "    for x in range(0,N):\n",
    "        for y in range(0,N):\n",
    "            sol[x][y] = -1;\n",
    "    xMove = [2,1,-1,-2,-2,-1, 1, 2]\n",
    "    yMove = [1,2,2,1,-1,-2,-2, -1]\n",
    "    sol[0][0]=0\n",
    "    if (solveKTUtil(0, 0, 1, sol, xMove, yMove) == False):\n",
    "    \n",
    "        print(\"Solution does not exist\")\n",
    "        return False\n",
    "    \n",
    "    else:\n",
    "        print(sol)\n",
    "        k = 0\n",
    "        L = []\n",
    "        while k <= (N*N)-1:\n",
    "            for i in range(N):\n",
    "                for j in range(N):\n",
    "                    #print(k)\n",
    "                    if sol[i][j] == k:\n",
    "                        L.append([i,j])\n",
    "                        k += 1\n",
    "                        #print(\"k: \"+str(k))\n",
    "        #print(sol)\n",
    "        if len(L) == 0:\n",
    "            print(\"Didn't find a solution.\")\n",
    "        print(\"Knights' positions: \", L)\n",
    "\n",
    "        if N <= 32:\n",
    "            graphicTour(N,L)\n",
    " \n",
    "    return True"
   ]
  },
  {
   "cell_type": "code",
   "execution_count": 11,
   "metadata": {
    "collapsed": true
   },
   "outputs": [],
   "source": [
    "def solveKTUtil(x,y,movei,sol,xMove,yMove):\n",
    "    if (movei == N*N):\n",
    "        return True\n",
    " \n",
    "    ##Try all next moves from the current coordinate x, y */\n",
    "    for k in range(0,8):\n",
    "        next_x = x + xMove[k]\n",
    "        next_y = y + yMove[k]\n",
    "        if (IsSafe(next_x, next_y, sol)):\n",
    "            sol[next_x][next_y] = movei\n",
    "            if (solveKTUtil(next_x, next_y, movei+1, sol,\n",
    "                         xMove, yMove) == True):\n",
    "                 return True\n",
    "            else:\n",
    "                sol[next_x][next_y] = -1\n",
    "    \n",
    "   \n",
    " \n",
    "    return False\n"
   ]
  },
  {
   "cell_type": "code",
   "execution_count": 12,
   "metadata": {},
   "outputs": [
    {
     "name": "stdout",
     "output_type": "stream",
     "text": [
      "[[ 0 59 38 33 30 17  8 63]\n",
      " [37 34 31 60  9 62 29 16]\n",
      " [58  1 36 39 32 27 18  7]\n",
      " [35 48 41 26 61 10 15 28]\n",
      " [42 57  2 49 40 23  6 19]\n",
      " [47 50 45 54 25 20 11 14]\n",
      " [56 43 52  3 22 13 24  5]\n",
      " [51 46 55 44 53  4 21 12]]\n",
      "Knights' positions:  [[0, 0], [2, 1], [4, 2], [6, 3], [7, 5], [6, 7], [4, 6], [2, 7], [0, 6], [1, 4], [3, 5], [5, 6], [7, 7], [6, 5], [5, 7], [3, 6], [1, 7], [0, 5], [2, 6], [4, 7], [5, 5], [7, 6], [6, 4], [4, 5], [6, 6], [5, 4], [3, 3], [2, 5], [3, 7], [1, 6], [0, 4], [1, 2], [2, 4], [0, 3], [1, 1], [3, 0], [2, 2], [1, 0], [0, 2], [2, 3], [4, 4], [3, 2], [4, 0], [6, 1], [7, 3], [5, 2], [7, 1], [5, 0], [3, 1], [4, 3], [5, 1], [7, 0], [6, 2], [7, 4], [5, 3], [7, 2], [6, 0], [4, 1], [2, 0], [0, 1], [1, 3], [3, 4], [1, 5], [0, 7]]\n"
     ]
    },
    {
     "ename": "KeyboardInterrupt",
     "evalue": "",
     "output_type": "error",
     "traceback": [
      "\u001b[0;31m---------------------------------------------------------------------------\u001b[0m",
      "\u001b[0;31mKeyboardInterrupt\u001b[0m                         Traceback (most recent call last)",
      "\u001b[0;32m<ipython-input-12-bb913f504fb3>\u001b[0m in \u001b[0;36m<module>\u001b[0;34m()\u001b[0m\n\u001b[1;32m      1\u001b[0m \u001b[0;32mif\u001b[0m \u001b[0m__name__\u001b[0m \u001b[0;34m==\u001b[0m \u001b[0;34m'__main__'\u001b[0m\u001b[0;34m:\u001b[0m\u001b[0;34m\u001b[0m\u001b[0m\n\u001b[0;32m----> 2\u001b[0;31m     \u001b[0msolveKT\u001b[0m\u001b[0;34m(\u001b[0m\u001b[0;34m)\u001b[0m\u001b[0;34m\u001b[0m\u001b[0m\n\u001b[0m",
      "\u001b[0;32m<ipython-input-10-21fe99522ff7>\u001b[0m in \u001b[0;36msolveKT\u001b[0;34m()\u001b[0m\n\u001b[1;32m     31\u001b[0m \u001b[0;34m\u001b[0m\u001b[0m\n\u001b[1;32m     32\u001b[0m         \u001b[0;32mif\u001b[0m \u001b[0mN\u001b[0m \u001b[0;34m<=\u001b[0m \u001b[0;36m32\u001b[0m\u001b[0;34m:\u001b[0m\u001b[0;34m\u001b[0m\u001b[0m\n\u001b[0;32m---> 33\u001b[0;31m             \u001b[0mgraphicTour\u001b[0m\u001b[0;34m(\u001b[0m\u001b[0mN\u001b[0m\u001b[0;34m,\u001b[0m\u001b[0mL\u001b[0m\u001b[0;34m)\u001b[0m\u001b[0;34m\u001b[0m\u001b[0m\n\u001b[0m\u001b[1;32m     34\u001b[0m \u001b[0;34m\u001b[0m\u001b[0m\n\u001b[1;32m     35\u001b[0m     \u001b[0;32mreturn\u001b[0m \u001b[0;32mTrue\u001b[0m\u001b[0;34m\u001b[0m\u001b[0m\n",
      "\u001b[0;32m<ipython-input-3-1f631bd2dae1>\u001b[0m in \u001b[0;36mgraphicTour\u001b[0;34m(N, L_coor)\u001b[0m\n\u001b[1;32m     27\u001b[0m                 \u001b[0mwindow\u001b[0m\u001b[0;34m.\u001b[0m\u001b[0mblit\u001b[0m\u001b[0;34m(\u001b[0m\u001b[0mhorse\u001b[0m\u001b[0;34m,\u001b[0m\u001b[0;34m(\u001b[0m\u001b[0mL_coor\u001b[0m\u001b[0;34m[\u001b[0m\u001b[0mindex\u001b[0m\u001b[0;34m-\u001b[0m\u001b[0;36m1\u001b[0m\u001b[0;34m]\u001b[0m\u001b[0;34m[\u001b[0m\u001b[0;36m0\u001b[0m\u001b[0;34m]\u001b[0m\u001b[0;34m*\u001b[0m\u001b[0;36m32\u001b[0m\u001b[0;34m,\u001b[0m\u001b[0mL_coor\u001b[0m\u001b[0;34m[\u001b[0m\u001b[0mindex\u001b[0m\u001b[0;34m-\u001b[0m\u001b[0;36m1\u001b[0m\u001b[0;34m]\u001b[0m\u001b[0;34m[\u001b[0m\u001b[0;36m1\u001b[0m\u001b[0;34m]\u001b[0m\u001b[0;34m*\u001b[0m\u001b[0;36m32\u001b[0m\u001b[0;34m)\u001b[0m\u001b[0;34m)\u001b[0m\u001b[0;34m\u001b[0m\u001b[0m\n\u001b[1;32m     28\u001b[0m             \u001b[0;32mfor\u001b[0m \u001b[0mx\u001b[0m \u001b[0;32min\u001b[0m \u001b[0mrange\u001b[0m\u001b[0;34m(\u001b[0m\u001b[0;36m10000000\u001b[0m\u001b[0;34m)\u001b[0m\u001b[0;34m:\u001b[0m\u001b[0;34m\u001b[0m\u001b[0m\n\u001b[0;32m---> 29\u001b[0;31m                 \u001b[0;32mpass\u001b[0m\u001b[0;34m\u001b[0m\u001b[0m\n\u001b[0m\u001b[1;32m     30\u001b[0m             \u001b[0;31m# Check events on window:\u001b[0m\u001b[0;34m\u001b[0m\u001b[0;34m\u001b[0m\u001b[0m\n\u001b[1;32m     31\u001b[0m             \u001b[0;32mfor\u001b[0m \u001b[0mevent\u001b[0m \u001b[0;32min\u001b[0m \u001b[0mpygame\u001b[0m\u001b[0;34m.\u001b[0m\u001b[0mevent\u001b[0m\u001b[0;34m.\u001b[0m\u001b[0mget\u001b[0m\u001b[0;34m(\u001b[0m\u001b[0;34m)\u001b[0m\u001b[0;34m:\u001b[0m\u001b[0;34m\u001b[0m\u001b[0m\n",
      "\u001b[0;31mKeyboardInterrupt\u001b[0m: "
     ]
    }
   ],
   "source": [
    "if __name__ == '__main__':\n",
    "    solveKT()"
   ]
  }
 ],
 "metadata": {
  "kernelspec": {
   "display_name": "Python 3",
   "language": "python",
   "name": "python3"
  },
  "language_info": {
   "codemirror_mode": {
    "name": "ipython",
    "version": 3
   },
   "file_extension": ".py",
   "mimetype": "text/x-python",
   "name": "python",
   "nbconvert_exporter": "python",
   "pygments_lexer": "ipython3",
   "version": "3.6.3"
  }
 },
 "nbformat": 4,
 "nbformat_minor": 2
}
