{
 "cells": [
  {
   "cell_type": "code",
   "execution_count": 13,
   "metadata": {
    "collapsed": true
   },
   "outputs": [],
   "source": [
    "### Size of chess board\n",
    "global N\n",
    "N=8\n",
    "import numpy as np\n",
    "import pygame, sys\n",
    "from pygame.locals import *"
   ]
  },
  {
   "cell_type": "code",
   "execution_count": 14,
   "metadata": {
    "collapsed": true
   },
   "outputs": [],
   "source": [
    "def IsSafe(x,y,sol):\n",
    "    return (x>=0 and x<N and y>=0 and y<N and sol[x][y]==-1)\n",
    "    "
   ]
  },
  {
   "cell_type": "code",
   "execution_count": 15,
   "metadata": {
    "collapsed": true
   },
   "outputs": [],
   "source": [
    "def graphicTour(self,N,L_coor):\n",
    "        horse = pygame.image.load(\"knight.png\")\n",
    "\n",
    "        # Initialize window size and title:\n",
    "        pygame.init()\n",
    "        window = pygame.display.set_mode((32*N,32*N))\n",
    "        pygame.display.set_caption(\"Knight's Tour\")\n",
    "        background = pygame.image.load(\"chess.png\")\n",
    "        index = 0\n",
    "\n",
    "        # Text:\n",
    "        font = pygame.font.SysFont(\"Ubuntu\",16)\n",
    "        text = []\n",
    "        surface = []\n",
    "\n",
    "        while True:\n",
    "            # Fill background:\n",
    "            window.blit(background,(0,0))\n",
    "            if index < N*N:\n",
    "                window.blit(horse,(L_coor[index][0]*32,L_coor[index][1]*32))\n",
    "                text.append(font.render(str(index+1),True,(255,255,255)))\n",
    "                surface.append(text[index].get_rect())\n",
    "                surface[index].center = (L_coor[index][0]*32+16,L_coor[index][1]*32+16)\n",
    "                index += 1\n",
    "            else:\n",
    "                window.blit(horse,(L_coor[index-1][0]*32,L_coor[index-1][1]*32))\n",
    "            for x in range(10000000):\n",
    "                pass\n",
    "            # Check events on window:\n",
    "            for event in pygame.event.get():\n",
    "                if event.type == QUIT:\n",
    "                    pygame.quit()\n",
    "                    sys.exit()\n",
    "                elif event.type == pygame.KEYDOWN:\n",
    "                    if event.key == 27:\n",
    "                        pygame.quit()\n",
    "                        sys.exit()\n",
    "\n",
    "            for i in range(index):\n",
    "                window.blit(text[i],surface[i])\n",
    "\n",
    "            # Update window:\n",
    "            pygame.display.update()"
   ]
  },
  {
   "cell_type": "code",
   "execution_count": 16,
   "metadata": {
    "collapsed": true
   },
   "outputs": [],
   "source": [
    "def solveKT():\n",
    "    ### Initialize matrix\n",
    "    sol=np.zeros((N,N), dtype=np.int)\n",
    "    for x in range(0,N):\n",
    "        for y in range(0,N):\n",
    "            sol[x][y] = -1;\n",
    "    xMove = [2,1,-1,-2,-2,-1, 1, 2]\n",
    "    yMove = [1,2,2,1,-1,-2,-2, -1]\n",
    "    sol[0][0]=0\n",
    "    if (solveKTUtil(0, 0, 1, sol, xMove, yMove) == False):\n",
    "    \n",
    "        print(\"Solution does not exist\")\n",
    "        return False\n",
    "    \n",
    "    else:\n",
    "        k = 1\n",
    "        L = []\n",
    "        while k <= N*N:\n",
    "            for i in range(N):\n",
    "                for j in range(N):\n",
    "                    if sol[i][j] == k:\n",
    "                        L.append([i,j])\n",
    "                        k += 1\n",
    "        print(sol)\n",
    "        if len(L) == 0:\n",
    "            print(\"Didn't find a solution.\")\n",
    "        print(\"Knights' positions: \", L)\n",
    "\n",
    "        if N <= 32:\n",
    "            graphicTour(N,L)\n",
    " \n",
    "    return True"
   ]
  },
  {
   "cell_type": "code",
   "execution_count": 17,
   "metadata": {
    "collapsed": true
   },
   "outputs": [],
   "source": [
    "def solveKTUtil(x,y,movei,sol,xMove,yMove):\n",
    "    if (movei == N*N):\n",
    "        return True\n",
    " \n",
    "    ##Try all next moves from the current coordinate x, y */\n",
    "    for k in range(0,8):\n",
    "        next_x = x + xMove[k]\n",
    "        next_y = y + yMove[k]\n",
    "        if (IsSafe(next_x, next_y, sol)):\n",
    "            sol[next_x][next_y] = movei\n",
    "            if (solveKTUtil(next_x, next_y, movei+1, sol,\n",
    "                         xMove, yMove) == True):\n",
    "                 return True\n",
    "            else:\n",
    "                sol[next_x][next_y] = -1\n",
    "    \n",
    "   \n",
    " \n",
    "    return False\n"
   ]
  },
  {
   "cell_type": "code",
   "execution_count": 19,
   "metadata": {},
   "outputs": [],
   "source": [
    "if __name__ == '__main__':\n",
    "    solveKT()"
   ]
  }
 ],
 "metadata": {
  "kernelspec": {
   "display_name": "Python 3",
   "language": "python",
   "name": "python3"
  },
  "language_info": {
   "codemirror_mode": {
    "name": "ipython",
    "version": 3
   },
   "file_extension": ".py",
   "mimetype": "text/x-python",
   "name": "python",
   "nbconvert_exporter": "python",
   "pygments_lexer": "ipython3",
   "version": "3.6.3"
  }
 },
 "nbformat": 4,
 "nbformat_minor": 2
}
